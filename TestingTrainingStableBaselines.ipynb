{
 "cells": [
  {
   "cell_type": "code",
   "execution_count": null,
   "id": "d1f79043-5ec2-4936-ae0c-62ac99275d11",
   "metadata": {},
   "outputs": [],
   "source": [
    "from stable_baselines3 import DQN, PPO\n",
    "from utils import *\n",
    "from data_logger import DataLogger\n",
    "# Import Base Callback for saving models\n",
    "from stable_baselines3.common.callbacks import EvalCallback, CheckpointCallback\n",
    "device = \"cuda\" if torch.cuda.is_available() else \"cpu\"\n",
    "device"
   ]
  },
  {
   "cell_type": "code",
   "execution_count": null,
   "id": "9b251bf3-67bb-4d42-bfc1-76112dcd55be",
   "metadata": {},
   "outputs": [],
   "source": [
    "#Loading parameters\n",
    "ep, lp, hp = get_params(\"mario\") #params[\"environment\"], params[\"logging\"], params[\"hyperparameters\"]\n",
    "hp_algo = hp['dqn/ddqn']"
   ]
  },
  {
   "cell_type": "code",
   "execution_count": null,
   "id": "8d06b0a7-8940-4e22-ab56-74236fbd4bd9",
   "metadata": {},
   "outputs": [],
   "source": [
    "#Environment\n",
    "env = get_env(game=ep[\"game\"], level=ep[\"level\"], action_space=ep[\"action_space\"])\n",
    "env = apply_wrappers(env, skip=ep[\"skip\"], gray_scale=ep[\"gray_scale\"], shape=ep[\"frame_shape\"], num_stack=ep[\"num_stack\"])\n",
    "next_state = env.reset()\n",
    "print(next_state.shape)"
   ]
  },
  {
   "cell_type": "code",
   "execution_count": null,
   "id": "af8c56af-b648-4827-81e4-6a9655c99292",
   "metadata": {},
   "outputs": [],
   "source": [
    "from utils import *\n",
    "next_state, reward, done, info = env.step(get_action_sample(env))\n",
    "plot_sequence_observations(next_state)\n",
    "print(info)"
   ]
  },
  {
   "cell_type": "code",
   "execution_count": null,
   "id": "823f10b2",
   "metadata": {},
   "outputs": [],
   "source": [
    "#Logging\n",
    "from stable_baselines3.common.callbacks import BaseCallback\n",
    "import collections\n",
    "\n",
    "class TensorboardCallback(BaseCallback):\n",
    "    \"\"\"\n",
    "    Custom callback for plotting winrate in tensorboard and saving hyperparameters.\n",
    "    \"\"\"\n",
    "    def __init__(self, verbose=0, game=\"mario\"):\n",
    "        super().__init__(verbose)\n",
    "        self.reward_history = []\n",
    "        self.win_rate_history = []\n",
    "        self.episodes_prev_act = collections.deque([0, 0], maxlen=2)\n",
    "        self.win_prev_act = collections.deque([0, 0], maxlen=2)\n",
    "        self.game = game\n",
    "        self.episode_num = 0\n",
    "\n",
    "    def _on_step(self) -> bool:\n",
    "        self.episodes_prev_act.append(self.episode_num)\n",
    "\n",
    "        if self.game==\"mario\":\n",
    "            if self.locals[\"dones\"][0] or self.locals[\"infos\"][0][\"flag_get\"]:\n",
    "                self.episode_num += 1\n",
    "            self.win_prev_act.append(int(self.locals[\"infos\"][0][\"flag_get\"]))\n",
    "        elif self.game==\"sonic\":\n",
    "            if self.locals[\"dones\"][0]:\n",
    "                self.episode_num += 1\n",
    "            self.win_prev_act.append(int(self.locals[\"dones\"][0] and (self.locals[\"infos\"][0][\"prev_progress\"])))\n",
    "        \n",
    "        if self.episodes_prev_act[0] != self.episodes_prev_act[1]:\n",
    "            self.logger.record(\"rollout/winrate\", self.win_prev_act[0])\n",
    "            self.win_rate_history.append(self.win_prev_act[0])        \n",
    "            self.reward_history.append(self.model.ep_info_buffer[-1][\"r\"])        \n",
    "        return True   \n",
    "\n",
    "logger = DataLogger(env, hp, model=hp_algo[\"model\"])\n",
    "checkpoint_callback = CheckpointCallback(save_freq=lp[\"n_time_steps_save_model\"], save_path=logger.folder_path_models, name_prefix=\"chkpt\")#saving the model periodically\n",
    "eval_callback = EvalCallback(env, best_model_save_path=logger.folder_path_models, log_path=logger.folder_path_models, eval_freq=lp[\"evaluate_best_model_every\"], deterministic=True, render=False)#evaluating the model periodically and saving the best one\n",
    "log_callback = TensorboardCallback(game = ep[\"game\"])"
   ]
  },
  {
   "cell_type": "code",
   "execution_count": null,
   "id": "e9971e1b-6ee3-4022-bb56-757fbc56c2d8",
   "metadata": {},
   "outputs": [],
   "source": [
    "#Hyperparams DQN\n",
    "model = DQN(\"CnnPolicy\",\n",
    "            env,\n",
    "            double_dqn = (hp_algo[\"model\"]==\"DDQN\"), \n",
    "            buffer_size = hp_algo[\"buffer_size\"],\n",
    "            batch_size = hp_algo[\"batch_size\"],\n",
    "            learning_starts = hp_algo[\"learning_starts\"],\n",
    "            learning_rate = hp_algo[\"learning_rate\"],\n",
    "            gamma = hp_algo[\"discount_factor\"],  \n",
    "            exploration_fraction = hp_algo[\"exploration_fraction\"],\n",
    "            exploration_final_eps = hp_algo[\"exploration_final_eps\"],\n",
    "            train_freq = hp_algo[\"train_freq\"],                    \n",
    "            target_update_interval = hp_algo[\"target_update_interval\"],   \n",
    "            tensorboard_log = logger.folder_path_train,\n",
    "            verbose = 1,\n",
    "            device = device\n",
    "            )"
   ]
  },
  {
   "cell_type": "code",
   "execution_count": null,
   "id": "e16ad4c2",
   "metadata": {},
   "outputs": [],
   "source": [
    "#model = PPO('CnnPolicy', env, verbose=1, tensorboard_log=logger.folder_path_train, learning_rate=hp_algo[\"learning_rate\"])"
   ]
  },
  {
   "cell_type": "code",
   "execution_count": null,
   "id": "7e3c72a7-30b7-4ad5-b30d-f9e3b9326a04",
   "metadata": {},
   "outputs": [],
   "source": [
    "model.learn(hp_algo[\"time_steps\"],\n",
    "            callback=[log_callback, checkpoint_callback, eval_callback],\n",
    "            tb_log_name=\"testing\")\n",
    "\n",
    "logger.total_rewards = log_callback.reward_history\n",
    "logger.wins = log_callback.win_rate_history\n",
    "logger.close()"
   ]
  },
  {
   "cell_type": "code",
   "execution_count": null,
   "id": "7213c4bf",
   "metadata": {},
   "outputs": [],
   "source": [
    "#Restart training\n",
    "model_path = r\"logs\\SuperMarioBros-1-1-v0\\PPO\\20240205004950\\checkpoints\\chkpt_2000000_steps.zip\"\n",
    "log_path = r\"logs\\SuperMarioBros-1-1-v0\\PPO\\20240205004950\\train\"\n",
    "model = PPO.load(model_path, tensorboard_log=log_path)\n",
    "model.set_env(env)"
   ]
  },
  {
   "cell_type": "code",
   "execution_count": null,
   "id": "eeaecdc1",
   "metadata": {},
   "outputs": [],
   "source": [
    "model.learn(hp_algo[\"time_steps\"],\n",
    "            callback=[log_callback, checkpoint_callback, eval_callback],\n",
    "            reset_num_timesteps=False)"
   ]
  }
 ],
 "metadata": {
  "kernelspec": {
   "display_name": "venv38",
   "language": "python",
   "name": "python3"
  },
  "language_info": {
   "codemirror_mode": {
    "name": "ipython",
    "version": 3
   },
   "file_extension": ".py",
   "mimetype": "text/x-python",
   "name": "python",
   "nbconvert_exporter": "python",
   "pygments_lexer": "ipython3",
   "version": "3.8.2"
  }
 },
 "nbformat": 4,
 "nbformat_minor": 5
}
