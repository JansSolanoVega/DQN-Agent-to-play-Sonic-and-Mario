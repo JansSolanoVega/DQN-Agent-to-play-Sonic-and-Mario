{
 "cells": [
  {
   "cell_type": "code",
   "execution_count": 1,
   "metadata": {},
   "outputs": [
    {
     "data": {
      "text/plain": [
       "'cuda'"
      ]
     },
     "execution_count": 1,
     "metadata": {},
     "output_type": "execute_result"
    }
   ],
   "source": [
    "from stable_baselines3 import DQN, PPO\n",
    "from stable_baselines3.common.vec_env import VecVideoRecorder, DummyVecEnv\n",
    "from utils import *\n",
    "device = \"cuda\" if torch.cuda.is_available() else \"cpu\"\n",
    "device"
   ]
  },
  {
   "cell_type": "code",
   "execution_count": 2,
   "metadata": {},
   "outputs": [],
   "source": [
    "#Loading parameters\n",
    "ep, lp, hp = get_params(\"sonic\") #params[\"environment\"], params[\"logging\"], params[\"hyperparameters\"]"
   ]
  },
  {
   "cell_type": "code",
   "execution_count": 3,
   "metadata": {},
   "outputs": [
    {
     "name": "stderr",
     "output_type": "stream",
     "text": [
      "e:\\10mociclo\\Applied\\RL_Sonic-TheHedgehog\\venv38\\lib\\site-packages\\gym\\wrappers\\record_video.py:41: UserWarning: \u001b[33mWARN: Overwriting existing videos at e:\\10mociclo\\Applied\\RL_Sonic-TheHedgehog\\results\\video_mario folder (try specifying a different `video_folder` for the `RecordVideo` wrapper if this is not desired)\u001b[0m\n",
      "  logger.warn(\n"
     ]
    }
   ],
   "source": [
    "import time\n",
    "# Load the trained model\n",
    "model = DQN.load(r\"best_model_sonic.zip\")\n",
    "\n",
    "env = get_env(game=ep[\"game\"], level=ep[\"level\"], action_space=ep[\"action_space\"])\n",
    "env = apply_wrappers(env, skip=ep[\"skip\"], gray_scale=ep[\"gray_scale\"], shape=ep[\"frame_shape\"], num_stack=ep[\"num_stack\"])# Test the model\n",
    "\n",
    "env = gym.wrappers.RecordVideo(env, 'results/video_mario')\n",
    "while True:\n",
    "    obs = env.reset()\n",
    "    done = False\n",
    "    while not done:\n",
    "        action, _ = model.predict(np.array(obs), deterministic=True)\n",
    "        #print(action)\n",
    "        obs, _, done, _ = env.step(int(action))\n",
    "        env.render()\n",
    "        time.sleep(0.001)\n",
    "    break"
   ]
  },
  {
   "cell_type": "code",
   "execution_count": 7,
   "metadata": {},
   "outputs": [],
   "source": [
    "env.close()"
   ]
  }
 ],
 "metadata": {
  "kernelspec": {
   "display_name": "venv38",
   "language": "python",
   "name": "python3"
  },
  "language_info": {
   "codemirror_mode": {
    "name": "ipython",
    "version": 3
   },
   "file_extension": ".py",
   "mimetype": "text/x-python",
   "name": "python",
   "nbconvert_exporter": "python",
   "pygments_lexer": "ipython3",
   "version": "3.8.2"
  }
 },
 "nbformat": 4,
 "nbformat_minor": 2
}
