{
 "cells": [
  {
   "cell_type": "code",
   "execution_count": 1,
   "metadata": {},
   "outputs": [
    {
     "name": "stdout",
     "output_type": "stream",
     "text": [
      "True\n"
     ]
    }
   ],
   "source": [
    "import torch\n",
    "from data_logger import DataLogger\n",
    "from dqn_agent import Agent\n",
    "from utils import *\n",
    "from tqdm import tqdm\n",
    "\n",
    "print(torch.cuda.is_available())"
   ]
  },
  {
   "cell_type": "code",
   "execution_count": 5,
   "metadata": {},
   "outputs": [],
   "source": [
    "#Loading parameters\n",
    "ep, lp, hp = get_params(gamename=\"mario\") #params[\"environment\"], params[\"logging\"], params[\"hyperparameters\"]\n",
    "hp_algo = hp['dqn/ddqn']"
   ]
  },
  {
   "cell_type": "code",
   "execution_count": 6,
   "metadata": {},
   "outputs": [
    {
     "name": "stdout",
     "output_type": "stream",
     "text": [
      "<gym.wrappers.frame_stack.LazyFrames object at 0x000001F1EAF1AF40>\n"
     ]
    }
   ],
   "source": [
    "env = get_env(game=ep[\"game\"], level=ep[\"level\"], action_space=ep[\"action_space\"])\n",
    "env = apply_wrappers(env, skip=ep[\"skip\"], gray_scale=ep[\"gray_scale\"], shape=tuple(ep[\"frame_shape\"]), num_stack=ep[\"num_stack\"])\n",
    "next_state = env.reset()\n",
    "print(next_state)"
   ]
  },
  {
   "cell_type": "code",
   "execution_count": 4,
   "metadata": {},
   "outputs": [
    {
     "name": "stderr",
     "output_type": "stream",
     "text": [
      "e:\\10mociclo\\Applied\\RL_Sonic-TheHedgehog\\dqn_agent.py:55: UserWarning: Creating a tensor from a list of numpy.ndarrays is extremely slow. Please consider converting the list to a single numpy.ndarray with numpy.array() before converting to a tensor. (Triggered internally at C:\\actions-runner\\_work\\pytorch\\pytorch\\builder\\windows\\pytorch\\torch\\csrc\\utils\\tensor_new.cpp:264.)\n",
      "  state = torch.FloatTensor(state).cuda()\n"
     ]
    },
    {
     "name": "stdout",
     "output_type": "stream",
     "text": [
      "Model saved to logs\\SuperMarioBros-1-1-v0\\DDQN\\Normalization_NN_Own\\checkpoints\\0.pth at step 0\n",
      "Best model saved to logs\\SuperMarioBros-1-1-v0\\DDQN\\Normalization_NN_Own\\checkpoints\\best_model.pth at episode 1\n",
      "Best model saved to logs\\SuperMarioBros-1-1-v0\\DDQN\\Normalization_NN_Own\\checkpoints\\best_model.pth at episode 2\n",
      "Best model saved to logs\\SuperMarioBros-1-1-v0\\DDQN\\Normalization_NN_Own\\checkpoints\\best_model.pth at episode 3\n",
      "Best model saved to logs\\SuperMarioBros-1-1-v0\\DDQN\\Normalization_NN_Own\\checkpoints\\best_model.pth at episode 8\n",
      "Best model saved to logs\\SuperMarioBros-1-1-v0\\DDQN\\Normalization_NN_Own\\checkpoints\\best_model.pth at episode 9\n",
      "Best model saved to logs\\SuperMarioBros-1-1-v0\\DDQN\\Normalization_NN_Own\\checkpoints\\best_model.pth at episode 14\n",
      "Best model saved to logs\\SuperMarioBros-1-1-v0\\DDQN\\Normalization_NN_Own\\checkpoints\\best_model.pth at episode 20\n",
      "Best model saved to logs\\SuperMarioBros-1-1-v0\\DDQN\\Normalization_NN_Own\\checkpoints\\best_model.pth at episode 61\n",
      "Model saved to logs\\SuperMarioBros-1-1-v0\\DDQN\\Normalization_NN_Own\\checkpoints\\25000.pth at step 25000\n",
      "Best model saved to logs\\SuperMarioBros-1-1-v0\\DDQN\\Normalization_NN_Own\\checkpoints\\best_model.pth at episode 142\n",
      "Model saved to logs\\SuperMarioBros-1-1-v0\\DDQN\\Normalization_NN_Own\\checkpoints\\50000.pth at step 50000\n",
      "Model saved to logs\\SuperMarioBros-1-1-v0\\DDQN\\Normalization_NN_Own\\checkpoints\\75000.pth at step 75000\n",
      "Model saved to logs\\SuperMarioBros-1-1-v0\\DDQN\\Normalization_NN_Own\\checkpoints\\100000.pth at step 100000\n",
      "Model saved to logs\\SuperMarioBros-1-1-v0\\DDQN\\Normalization_NN_Own\\checkpoints\\125000.pth at step 125000\n",
      "Model saved to logs\\SuperMarioBros-1-1-v0\\DDQN\\Normalization_NN_Own\\checkpoints\\150000.pth at step 150000\n",
      "Best model saved to logs\\SuperMarioBros-1-1-v0\\DDQN\\Normalization_NN_Own\\checkpoints\\best_model.pth at episode 809\n",
      "Model saved to logs\\SuperMarioBros-1-1-v0\\DDQN\\Normalization_NN_Own\\checkpoints\\175000.pth at step 175000\n",
      "Model saved to logs\\SuperMarioBros-1-1-v0\\DDQN\\Normalization_NN_Own\\checkpoints\\200000.pth at step 200000\n",
      "Model saved to logs\\SuperMarioBros-1-1-v0\\DDQN\\Normalization_NN_Own\\checkpoints\\225000.pth at step 225000\n",
      "Model saved to logs\\SuperMarioBros-1-1-v0\\DDQN\\Normalization_NN_Own\\checkpoints\\250000.pth at step 250000\n",
      "Model saved to logs\\SuperMarioBros-1-1-v0\\DDQN\\Normalization_NN_Own\\checkpoints\\275000.pth at step 275000\n",
      "Model saved to logs\\SuperMarioBros-1-1-v0\\DDQN\\Normalization_NN_Own\\checkpoints\\300000.pth at step 300000\n",
      "Model saved to logs\\SuperMarioBros-1-1-v0\\DDQN\\Normalization_NN_Own\\checkpoints\\325000.pth at step 325000\n",
      "Model saved to logs\\SuperMarioBros-1-1-v0\\DDQN\\Normalization_NN_Own\\checkpoints\\350000.pth at step 350000\n",
      "Model saved to logs\\SuperMarioBros-1-1-v0\\DDQN\\Normalization_NN_Own\\checkpoints\\375000.pth at step 375000\n",
      "Model saved to logs\\SuperMarioBros-1-1-v0\\DDQN\\Normalization_NN_Own\\checkpoints\\400000.pth at step 400000\n",
      "Model saved to logs\\SuperMarioBros-1-1-v0\\DDQN\\Normalization_NN_Own\\checkpoints\\425000.pth at step 425000\n",
      "Best model saved to logs\\SuperMarioBros-1-1-v0\\DDQN\\Normalization_NN_Own\\checkpoints\\best_model.pth at episode 2491\n",
      "Model saved to logs\\SuperMarioBros-1-1-v0\\DDQN\\Normalization_NN_Own\\checkpoints\\450000.pth at step 450000\n",
      "Model saved to logs\\SuperMarioBros-1-1-v0\\DDQN\\Normalization_NN_Own\\checkpoints\\475000.pth at step 475000\n",
      "Model saved to logs\\SuperMarioBros-1-1-v0\\DDQN\\Normalization_NN_Own\\checkpoints\\500000.pth at step 500000\n",
      "Model saved to logs\\SuperMarioBros-1-1-v0\\DDQN\\Normalization_NN_Own\\checkpoints\\525000.pth at step 525000\n",
      "Model saved to logs\\SuperMarioBros-1-1-v0\\DDQN\\Normalization_NN_Own\\checkpoints\\550000.pth at step 550000\n",
      "Model saved to logs\\SuperMarioBros-1-1-v0\\DDQN\\Normalization_NN_Own\\checkpoints\\575000.pth at step 575000\n",
      "Model saved to logs\\SuperMarioBros-1-1-v0\\DDQN\\Normalization_NN_Own\\checkpoints\\600000.pth at step 600000\n",
      "Model saved to logs\\SuperMarioBros-1-1-v0\\DDQN\\Normalization_NN_Own\\checkpoints\\625000.pth at step 625000\n",
      "Model saved to logs\\SuperMarioBros-1-1-v0\\DDQN\\Normalization_NN_Own\\checkpoints\\650000.pth at step 650000\n",
      "Best model saved to logs\\SuperMarioBros-1-1-v0\\DDQN\\Normalization_NN_Own\\checkpoints\\best_model.pth at episode 3676\n",
      "Model saved to logs\\SuperMarioBros-1-1-v0\\DDQN\\Normalization_NN_Own\\checkpoints\\675000.pth at step 675000\n",
      "Model saved to logs\\SuperMarioBros-1-1-v0\\DDQN\\Normalization_NN_Own\\checkpoints\\700000.pth at step 700000\n",
      "Model saved to logs\\SuperMarioBros-1-1-v0\\DDQN\\Normalization_NN_Own\\checkpoints\\725000.pth at step 725000\n",
      "Model saved to logs\\SuperMarioBros-1-1-v0\\DDQN\\Normalization_NN_Own\\checkpoints\\750000.pth at step 750000\n",
      "Model saved to logs\\SuperMarioBros-1-1-v0\\DDQN\\Normalization_NN_Own\\checkpoints\\775000.pth at step 775000\n",
      "Model saved to logs\\SuperMarioBros-1-1-v0\\DDQN\\Normalization_NN_Own\\checkpoints\\800000.pth at step 800000\n",
      "Model saved to logs\\SuperMarioBros-1-1-v0\\DDQN\\Normalization_NN_Own\\checkpoints\\825000.pth at step 825000\n",
      "Model saved to logs\\SuperMarioBros-1-1-v0\\DDQN\\Normalization_NN_Own\\checkpoints\\850000.pth at step 850000\n",
      "Model saved to logs\\SuperMarioBros-1-1-v0\\DDQN\\Normalization_NN_Own\\checkpoints\\875000.pth at step 875000\n",
      "Model saved to logs\\SuperMarioBros-1-1-v0\\DDQN\\Normalization_NN_Own\\checkpoints\\900000.pth at step 900000\n",
      "Model saved to logs\\SuperMarioBros-1-1-v0\\DDQN\\Normalization_NN_Own\\checkpoints\\925000.pth at step 925000\n",
      "Model saved to logs\\SuperMarioBros-1-1-v0\\DDQN\\Normalization_NN_Own\\checkpoints\\950000.pth at step 950000\n",
      "Model saved to logs\\SuperMarioBros-1-1-v0\\DDQN\\Normalization_NN_Own\\checkpoints\\975000.pth at step 975000\n",
      "Model saved to logs\\SuperMarioBros-1-1-v0\\DDQN\\Normalization_NN_Own\\checkpoints\\1000000.pth at step 1000000\n",
      "Model saved to logs\\SuperMarioBros-1-1-v0\\DDQN\\Normalization_NN_Own\\checkpoints\\1025000.pth at step 1025000\n",
      "Model saved to logs\\SuperMarioBros-1-1-v0\\DDQN\\Normalization_NN_Own\\checkpoints\\1050000.pth at step 1050000\n",
      "Model saved to logs\\SuperMarioBros-1-1-v0\\DDQN\\Normalization_NN_Own\\checkpoints\\1075000.pth at step 1075000\n",
      "Model saved to logs\\SuperMarioBros-1-1-v0\\DDQN\\Normalization_NN_Own\\checkpoints\\1100000.pth at step 1100000\n",
      "Model saved to logs\\SuperMarioBros-1-1-v0\\DDQN\\Normalization_NN_Own\\checkpoints\\1125000.pth at step 1125000\n",
      "Model saved to logs\\SuperMarioBros-1-1-v0\\DDQN\\Normalization_NN_Own\\checkpoints\\1150000.pth at step 1150000\n",
      "Best model saved to logs\\SuperMarioBros-1-1-v0\\DDQN\\Normalization_NN_Own\\checkpoints\\best_model.pth at episode 6562\n",
      "Model saved to logs\\SuperMarioBros-1-1-v0\\DDQN\\Normalization_NN_Own\\checkpoints\\1175000.pth at step 1175000\n",
      "Best model saved to logs\\SuperMarioBros-1-1-v0\\DDQN\\Normalization_NN_Own\\checkpoints\\best_model.pth at episode 6634\n",
      "Model saved to logs\\SuperMarioBros-1-1-v0\\DDQN\\Normalization_NN_Own\\checkpoints\\1200000.pth at step 1200000\n",
      "Model saved to logs\\SuperMarioBros-1-1-v0\\DDQN\\Normalization_NN_Own\\checkpoints\\1225000.pth at step 1225000\n",
      "Model saved to logs\\SuperMarioBros-1-1-v0\\DDQN\\Normalization_NN_Own\\checkpoints\\1250000.pth at step 1250000\n",
      "Model saved to logs\\SuperMarioBros-1-1-v0\\DDQN\\Normalization_NN_Own\\checkpoints\\1275000.pth at step 1275000\n",
      "Model saved to logs\\SuperMarioBros-1-1-v0\\DDQN\\Normalization_NN_Own\\checkpoints\\1300000.pth at step 1300000\n",
      "Model saved to logs\\SuperMarioBros-1-1-v0\\DDQN\\Normalization_NN_Own\\checkpoints\\1325000.pth at step 1325000\n",
      "Model saved to logs\\SuperMarioBros-1-1-v0\\DDQN\\Normalization_NN_Own\\checkpoints\\1350000.pth at step 1350000\n",
      "Model saved to logs\\SuperMarioBros-1-1-v0\\DDQN\\Normalization_NN_Own\\checkpoints\\1375000.pth at step 1375000\n",
      "Model saved to logs\\SuperMarioBros-1-1-v0\\DDQN\\Normalization_NN_Own\\checkpoints\\1400000.pth at step 1400000\n",
      "Model saved to logs\\SuperMarioBros-1-1-v0\\DDQN\\Normalization_NN_Own\\checkpoints\\1425000.pth at step 1425000\n",
      "Model saved to logs\\SuperMarioBros-1-1-v0\\DDQN\\Normalization_NN_Own\\checkpoints\\1450000.pth at step 1450000\n",
      "Model saved to logs\\SuperMarioBros-1-1-v0\\DDQN\\Normalization_NN_Own\\checkpoints\\1475000.pth at step 1475000\n",
      "Model saved to logs\\SuperMarioBros-1-1-v0\\DDQN\\Normalization_NN_Own\\checkpoints\\1500000.pth at step 1500000\n",
      "Model saved to logs\\SuperMarioBros-1-1-v0\\DDQN\\Normalization_NN_Own\\checkpoints\\1525000.pth at step 1525000\n",
      "Model saved to logs\\SuperMarioBros-1-1-v0\\DDQN\\Normalization_NN_Own\\checkpoints\\1550000.pth at step 1550000\n",
      "Model saved to logs\\SuperMarioBros-1-1-v0\\DDQN\\Normalization_NN_Own\\checkpoints\\1575000.pth at step 1575000\n",
      "Model saved to logs\\SuperMarioBros-1-1-v0\\DDQN\\Normalization_NN_Own\\checkpoints\\1600000.pth at step 1600000\n",
      "Model saved to logs\\SuperMarioBros-1-1-v0\\DDQN\\Normalization_NN_Own\\checkpoints\\1625000.pth at step 1625000\n",
      "Model saved to logs\\SuperMarioBros-1-1-v0\\DDQN\\Normalization_NN_Own\\checkpoints\\1650000.pth at step 1650000\n",
      "Model saved to logs\\SuperMarioBros-1-1-v0\\DDQN\\Normalization_NN_Own\\checkpoints\\1675000.pth at step 1675000\n",
      "Model saved to logs\\SuperMarioBros-1-1-v0\\DDQN\\Normalization_NN_Own\\checkpoints\\1700000.pth at step 1700000\n",
      "Model saved to logs\\SuperMarioBros-1-1-v0\\DDQN\\Normalization_NN_Own\\checkpoints\\1725000.pth at step 1725000\n",
      "Model saved to logs\\SuperMarioBros-1-1-v0\\DDQN\\Normalization_NN_Own\\checkpoints\\1750000.pth at step 1750000\n",
      "Model saved to logs\\SuperMarioBros-1-1-v0\\DDQN\\Normalization_NN_Own\\checkpoints\\1775000.pth at step 1775000\n",
      "Model saved to logs\\SuperMarioBros-1-1-v0\\DDQN\\Normalization_NN_Own\\checkpoints\\1800000.pth at step 1800000\n",
      "Model saved to logs\\SuperMarioBros-1-1-v0\\DDQN\\Normalization_NN_Own\\checkpoints\\1825000.pth at step 1825000\n",
      "Model saved to logs\\SuperMarioBros-1-1-v0\\DDQN\\Normalization_NN_Own\\checkpoints\\1850000.pth at step 1850000\n",
      "Model saved to logs\\SuperMarioBros-1-1-v0\\DDQN\\Normalization_NN_Own\\checkpoints\\1875000.pth at step 1875000\n",
      "Model saved to logs\\SuperMarioBros-1-1-v0\\DDQN\\Normalization_NN_Own\\checkpoints\\1900000.pth at step 1900000\n",
      "Model saved to logs\\SuperMarioBros-1-1-v0\\DDQN\\Normalization_NN_Own\\checkpoints\\1925000.pth at step 1925000\n",
      "Model saved to logs\\SuperMarioBros-1-1-v0\\DDQN\\Normalization_NN_Own\\checkpoints\\1950000.pth at step 1950000\n",
      "Model saved to logs\\SuperMarioBros-1-1-v0\\DDQN\\Normalization_NN_Own\\checkpoints\\1975000.pth at step 1975000\n",
      "Model saved to logs\\SuperMarioBros-1-1-v0\\DDQN\\Normalization_NN_Own\\checkpoints\\2000000.pth at step 2000000\n"
     ]
    }
   ],
   "source": [
    "agent = Agent(env, batch_size=hp_algo[\"batch_size\"], time_steps=hp_algo[\"time_steps\"], buffer_size=hp_algo[\"buffer_size\"], learning_rate=hp_algo[\"learning_rate\"], observation_size=(ep[\"num_stack\"],)+tuple(ep[\"frame_shape\"]), action_size=get_action_space_size(env), \n",
    "              discount_factor=hp_algo[\"discount_factor\"], model=hp_algo[\"model\"], epsilon_min=hp_algo[\"exploration_final_eps\"], exploration_fraction=hp_algo[\"exploration_fraction\"], update_online_every=hp_algo[\"train_freq\"],\n",
    "              update_target_from_online_every=hp_algo[\"target_update_interval\"], start_learning_after=hp_algo[\"learning_starts\"])\n",
    "logger = DataLogger(env, hp, agent, model=hp_algo[\"model\"], name_logging=\"Normalization_NN_Own\")\n",
    "\n",
    "while logger.time_step_count < hp_algo[\"time_steps\"]:\n",
    "    state = env.reset()\n",
    "    while True:\n",
    "        #env.render()\n",
    "\n",
    "        action_idx = agent.act(state)\n",
    "\n",
    "        next_state, reward, done, info = env.step(action_idx)\n",
    "\n",
    "        agent.append_experience_to_memory(state, next_state, action_idx, reward, done)\n",
    "        \n",
    "        loss = agent.learn()\n",
    "\n",
    "        state = next_state        \n",
    "\n",
    "        logger.time_step(reward, loss, n_time_steps_save_model=lp[\"n_time_steps_save_model\"])\n",
    "\n",
    "        if done or info['flag_get']:\n",
    "            break\n",
    "\n",
    "    logger.episode_step(info)\n",
    "\n",
    "logger.close()"
   ]
  },
  {
   "cell_type": "code",
   "execution_count": 5,
   "metadata": {},
   "outputs": [],
   "source": [
    "env.close()"
   ]
  },
  {
   "cell_type": "code",
   "execution_count": 6,
   "metadata": {},
   "outputs": [
    {
     "data": {
      "image/png": "[encoded data removed]",
      "text/plain": [
       "<Figure size 640x480 with 1 Axes>"
      ]
     },
     "metadata": {},
     "output_type": "display_data"
    }
   ],
   "source": [
    "import pickle\n",
    "with open(r\"logs\\SuperMarioBros-1-1-v0\\DDQN\\20240131132219\\train\\total_rewards\", 'rb') as f:\n",
    "    rews = pickle.load(f)\n",
    "plot_average_reward(rews, title=\"Episodes trained vs. Average Rewards\", n_average=1)"
   ]
  },
  {
   "cell_type": "code",
   "execution_count": null,
   "metadata": {},
   "outputs": [
    {
     "name": "stdout",
     "output_type": "stream",
     "text": [
      "Loading model at logs\\SuperMarioBros-1-1-v0\\DDQN\\20240129231225\\checkpoints\\best_model.pth with exploration rate 0.02\n"
     ]
    }
   ],
   "source": [
    "#Testing trained model\n",
    "env = get_env(game=ep[\"game\"], level=ep[\"level\"], action_space=ep[\"action_space\"])\n",
    "env = apply_wrappers(env, skip=ep[\"skip\"], gray_scale=ep[\"gray_scale\"], shape=ep[\"frame_shape\"], num_stack=ep[\"num_stack\"], buffer=ep[\"buffer\"])\n",
    "\n",
    "agent = Agent(env, batch_size=hp_algo[\"batch_size\"], buffer_size=hp_algo[\"buffer_size\"], learning_rate=hp_algo[\"learning_rate\"], observation_size=(ep[\"num_stack\"],)+tuple(ep[\"frame_shape\"]), action_size=get_action_space_size(env), \n",
    "              discount_factor=hp_algo[\"discount_factor\"], model=hp_algo[\"model\"], epsilon_min=hp_algo[\"exploration_min\"], epsilon_decay=hp_algo[\"exploration_decay\"], update_online_every=hp_algo[\"train_freq\"],\n",
    "              update_target_from_online_every=hp_algo[\"target_update_interval\"], start_learning_after=hp_algo[\"learning_starts\"])\n",
    "agent.load(r\"logs\\SuperMarioBros-1-1-v0\\DDQN\\20240129231225\\checkpoints\\best_model.pth\")"
   ]
  },
  {
   "cell_type": "code",
   "execution_count": null,
   "metadata": {},
   "outputs": [],
   "source": [
    "try:\n",
    "    while True:\n",
    "        time_stamp=0\n",
    "        state = env.reset()\n",
    "        while time_stamp<1e4:\n",
    "            action_idx = agent.act(state)\n",
    "\n",
    "            next_state, reward, done, info = env.step(get_action(action_idx, env))\n",
    "\n",
    "            state = next_state\n",
    "\n",
    "            env.render()\n",
    "            \n",
    "            time_stamp += 1\n",
    "\n",
    "            if done or info[\"flag_get\"]:\n",
    "                break\n",
    "except:\n",
    "    env.close()"
   ]
  },
  {
   "cell_type": "code",
   "execution_count": null,
   "metadata": {},
   "outputs": [],
   "source": []
  }
 ],
 "metadata": {
  "kernelspec": {
   "display_name": "Python 3 (ipykernel)",
   "language": "python",
   "name": "python3"
  },
  "language_info": {
   "codemirror_mode": {
    "name": "ipython",
    "version": 3
   },
   "file_extension": ".py",
   "mimetype": "text/x-python",
   "name": "python",
   "nbconvert_exporter": "python",
   "pygments_lexer": "ipython3",
   "version": "3.8.2"
  }
 },
 "nbformat": 4,
 "nbformat_minor": 4
}
