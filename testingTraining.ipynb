{
 "cells": [
  {
   "cell_type": "code",
   "execution_count": null,
   "metadata": {},
   "outputs": [],
   "source": [
    "import torch\n",
    "from data_logger import DataLogger\n",
    "from dqn_agent import Agent \n",
    "from utils import *\n",
    "from tqdm import tqdm\n",
    "print(torch.cuda.is_available())"
   ]
  },
  {
   "cell_type": "code",
   "execution_count": null,
   "metadata": {},
   "outputs": [],
   "source": [
    "#Params environment\n",
    "game=\"mario\"\n",
    "level=\"SuperMarioBros-1-1-v0\"\n",
    "action_space=\"SIMPLE_MOVEMENT\"\n",
    "\n",
    "skip = 4 \n",
    "gray_scale = True\n",
    "frame_shape = (84, 84)\n",
    "num_stack = 4\n",
    "\n",
    "#Training model\n",
    "model = \"DDQN\"\n",
    "episodes = 20000\n",
    "batch_size = 32\n",
    "learning_rate = 0.00025\n",
    "\n",
    "exploration_rate = 1 #initial value for epsilon\n",
    "discount_factor = 0.99\n",
    "epsilon_min = 0.1\n",
    "epsilon_decay = 0.99999975\n",
    "\n",
    "#Logging\n",
    "n_time_steps_save_model=10000\n",
    "n_episodes_average=3"
   ]
  },
  {
   "cell_type": "code",
   "execution_count": null,
   "metadata": {},
   "outputs": [],
   "source": [
    "env = get_env(game=game, level=level, action_space=action_space)\n",
    "env = apply_wrappers(env, skip=skip, gray_scale=gray_scale, shape=frame_shape, num_stack=num_stack)\n",
    "\n",
    "agent = Agent(env, batch_size, learning_rate, observation_size=(num_stack,)+frame_shape, action_size=get_action_space_size(env), exploration_rate=exploration_rate, discount_factor=discount_factor)\n",
    "logger = DataLogger(env, agent, model=model)\n",
    "\n",
    "for episode in tqdm(range(episodes)):\n",
    "    state = env.reset()\n",
    "\n",
    "    while True:\n",
    "        action_idx = agent.act(state)\n",
    "\n",
    "        next_state, reward, done, info = env.step(get_action(action_idx, env))\n",
    "\n",
    "        agent.append_experience_to_memory(state, next_state, action_idx, reward, done)\n",
    "        \n",
    "        loss = agent.learn()\n",
    "\n",
    "        state = next_state\n",
    "\n",
    "        env.render()\n",
    "\n",
    "        if done or info[\"flag_get\"]:\n",
    "            break\n",
    "\n",
    "        logger.time_step(reward, n_time_steps_save_model=n_time_steps_save_model)\n",
    "\n",
    "    logger.episode_step(info, n_episodes_average=n_episodes_average)\n",
    "\n",
    "logger.close()"
   ]
  },
  {
   "cell_type": "code",
   "execution_count": null,
   "metadata": {},
   "outputs": [],
   "source": [
    "env.close()"
   ]
  },
  {
   "cell_type": "code",
   "execution_count": null,
   "metadata": {},
   "outputs": [],
   "source": [
    "env = get_env(game=game, level=level, action_space=action_space)\n",
    "env = apply_wrappers(env, skip=skip, gray_scale=gray_scale, shape=frame_shape, num_stack=num_stack)\n",
    "\n",
    "agent = Agent(env, batch_size, learning_rate, observation_size=(num_stack,)+frame_shape, action_size=get_action_space_size(env), exploration_rate=exploration_rate, discount_factor=discount_factor)\n",
    "agent.net.load_state_dict(torch.load('best_model.pth'))\n",
    "time_stamp=0\n",
    "state = env.reset()\n",
    "\n",
    "while time_stamp<1e4:\n",
    "        action_idx = agent.act(state)\n",
    "\n",
    "        next_state, reward, done, info = env.step(get_action(action_idx, env))\n",
    "\n",
    "        state = next_state\n",
    "\n",
    "        env.render()\n",
    "        \n",
    "        time_stamp += 1\n",
    "\n",
    "        if done or info[\"flag_get\"]:\n",
    "            break"
   ]
  }
 ],
 "metadata": {
  "kernelspec": {
   "display_name": "venv38",
   "language": "python",
   "name": "python3"
  },
  "language_info": {
   "codemirror_mode": {
    "name": "ipython",
    "version": 3
   },
   "file_extension": ".py",
   "mimetype": "text/x-python",
   "name": "python",
   "nbconvert_exporter": "python",
   "pygments_lexer": "ipython3",
   "version": "3.8.2"
  }
 },
 "nbformat": 4,
 "nbformat_minor": 2
}
